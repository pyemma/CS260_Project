{
 "cells": [
  {
   "cell_type": "code",
   "execution_count": 1,
   "metadata": {
    "collapsed": false
   },
   "outputs": [],
   "source": [
    "import preprocess"
   ]
  },
  {
   "cell_type": "code",
   "execution_count": 28,
   "metadata": {
    "collapsed": false
   },
   "outputs": [
    {
     "name": "stdout",
     "output_type": "stream",
     "text": [
      "Total feature number in bag: 800\n",
      "Processed 1000\n",
      "Processed 2000\n",
      "Processed 3000\n",
      "Processed 4000\n",
      "Processed 5000\n",
      "Processed 6000\n",
      "Processed 7000\n",
      "Processed 8000\n",
      "Processed 9000\n",
      "Processed 10000\n",
      "Processed 11000\n",
      "Processed 12000\n",
      "Processed 13000\n",
      "Processed 14000\n",
      "Processed 15000\n",
      "Processed 16000\n",
      "Processed 17000\n",
      "Processed 18000\n",
      "Processed 19000\n",
      "Processed 20000\n",
      "Processed 21000\n",
      "Processed 22000\n",
      "Processed 23000\n",
      "Processed 24000\n",
      "Processed 25000\n",
      "Processed 26000\n",
      "Processed 27000\n",
      "Processed 28000\n",
      "Processed 29000\n",
      "Processed 30000\n",
      "Processed 31000\n",
      "Processed 32000\n",
      "Processed 33000\n",
      "Processed 34000\n",
      "Processed 35000\n",
      "Processed 36000\n",
      "Processed 37000\n",
      "Processed 38000\n",
      "Processed 39000\n",
      "Processed 40000\n",
      "Processed 41000\n",
      "Processed 42000\n",
      "Processed 43000\n",
      "Processed 44000\n",
      "Processed 45000\n",
      "Processed 46000\n",
      "Processed 47000\n",
      "Processed 48000\n",
      "Processed 49000\n",
      "Processed 50000\n",
      "Processed 51000\n",
      "Processed 52000\n",
      "Processed 53000\n",
      "Processed 54000\n",
      "Processed 55000\n",
      "Processed 56000\n",
      "Processed 57000\n",
      "Processed 58000\n",
      "Processed 59000\n",
      "Processed 60000\n",
      "Processed 61000\n",
      "Processed 62000\n",
      "Processed 63000\n",
      "Processed 64000\n",
      "Processed 65000\n",
      "Processed 66000\n",
      "Processed 67000\n",
      "Processed 68000\n",
      "Processed 69000\n",
      "Processed 70000\n",
      "Processed 71000\n",
      "Processed 72000\n",
      "Processed 73000\n",
      "Processed 74000\n",
      "Processed 75000\n",
      "Processed 76000\n",
      "Processed 77000\n",
      "Processed 78000\n",
      "Processed 79000\n",
      "Processed 80000\n",
      "Processed 81000\n",
      "Processed 82000\n",
      "Processed 83000\n",
      "Processed 84000\n",
      "Processed 85000\n",
      "Processed 86000\n",
      "Processed 87000\n",
      "Processed 88000\n",
      "Processed 89000\n",
      "Processed 90000\n",
      "Processed 91000\n",
      "Processed 92000\n",
      "Processed 93000\n",
      "Processed 94000\n",
      "Processed 95000\n",
      "train_data len: 95674 800\n",
      "test_data len: 6"
     ]
    },
    {
     "ename": "TypeError",
     "evalue": "object of type 'NoneType' has no len()",
     "output_type": "error",
     "traceback": [
      "\u001b[1;31m---------------------------------------------------------------------------\u001b[0m",
      "\u001b[1;31mTypeError\u001b[0m                                 Traceback (most recent call last)",
      "\u001b[1;32m<ipython-input-28-fa899b118519>\u001b[0m in \u001b[0;36m<module>\u001b[1;34m()\u001b[0m\n\u001b[0;32m     20\u001b[0m \u001b[1;33m\u001b[0m\u001b[0m\n\u001b[0;32m     21\u001b[0m \u001b[1;32mprint\u001b[0m \u001b[1;34m\"train_data len:\"\u001b[0m\u001b[1;33m,\u001b[0m \u001b[0mlen\u001b[0m\u001b[1;33m(\u001b[0m\u001b[0mtrain_data\u001b[0m\u001b[1;33m)\u001b[0m\u001b[1;33m,\u001b[0m \u001b[0mlen\u001b[0m\u001b[1;33m(\u001b[0m\u001b[0mtrain_data\u001b[0m\u001b[1;33m[\u001b[0m\u001b[1;36m1\u001b[0m\u001b[1;33m]\u001b[0m\u001b[1;33m)\u001b[0m\u001b[1;33m\u001b[0m\u001b[0m\n\u001b[1;32m---> 22\u001b[1;33m \u001b[1;32mprint\u001b[0m \u001b[1;34m\"test_data len:\"\u001b[0m\u001b[1;33m,\u001b[0m \u001b[0mlen\u001b[0m\u001b[1;33m(\u001b[0m\u001b[0mtest_data\u001b[0m\u001b[1;33m)\u001b[0m\u001b[1;33m,\u001b[0m \u001b[0mlen\u001b[0m\u001b[1;33m(\u001b[0m\u001b[0mtest_label\u001b[0m\u001b[1;33m[\u001b[0m\u001b[1;36m1\u001b[0m\u001b[1;33m]\u001b[0m\u001b[1;33m)\u001b[0m\u001b[1;33m\u001b[0m\u001b[0m\n\u001b[0m",
      "\u001b[1;31mTypeError\u001b[0m: object of type 'NoneType' has no len()"
     ]
    }
   ],
   "source": [
    "'''\n",
    "TripType - a categorical id representing the type of shopping trip the customer made. This is the ground truth that you are predicting. TripType_999 is an \"other\" category.\n",
    "VisitNumber - an id corresponding to a single trip by a single customer\n",
    "Weekday - the weekday of the trip\n",
    "Upc - the UPC number of the product purchased\n",
    "ScanCount - the number of the given item that was purchased. A negative value indicates a product return.\n",
    "DepartmentDescription - a high-level description of the item's department\n",
    "FinelineNumber - a more refined category for each of the products, created by Walmart\n",
    "'''\n",
    "train_label, raw_train_data = preprocess.group_by_visit_number('data/train.csv')\n",
    "test_label, raw_test_data = preprocess.group_by_visit_number('data/test-simple.csv', False)\n",
    "\n",
    "processed_train_data = preprocess.process_data(raw_train_data, ['s', 'd'])\n",
    "processed_test_data = preprocess.process_data(raw_test_data, ['s', 'd'])\n",
    "\n",
    "bag_of_features = preprocess.get_feature_bag(processed_train_data, processed_test_data, {})\n",
    "\n",
    "train_data = preprocess.one_hot_encoding(processed_train_data, bag_of_features)\n",
    "test_data = preprocess.one_hot_encoding(processed_test_data, bag_of_features)\n",
    "\n",
    "print \"train_data len:\", len(train_data), len(train_data[1])\n",
    "print \"test_data len:\", len(test_data), len(test_data[1])"
   ]
  },
  {
   "cell_type": "code",
   "execution_count": 15,
   "metadata": {
    "collapsed": false
   },
   "outputs": [
    {
     "data": {
      "text/plain": [
       "[('7',\n",
       "  'Friday',\n",
       "  [('60538815980', '1', 'SHOES', '8931'),\n",
       "   ('7410811099', '1', 'PERSONAL CARE', '4504')]),\n",
       " ('8',\n",
       "  'Tuesday',\n",
       "  [('2238495318', '1', 'PAINT AND ACCESSORIES', '4501'),\n",
       "   ('2238400200', '-1', 'PAINT AND ACCESSORIES', '3565'),\n",
       "   ('5200010239', '1', 'DSD GROCERY', '4606')]),\n",
       " ('8',\n",
       "  'Friday',\n",
       "  [('2238403510', '2', 'PAINT AND ACCESSORIES', '3565'),\n",
       "   ('2006613744', '2', 'PAINT AND ACCESSORIES', '1017'),\n",
       "   ('2006618783', '2', 'PAINT AND ACCESSORIES', '1017'),\n",
       "   ('2006613743', '1', 'PAINT AND ACCESSORIES', '1017'),\n",
       "   ('7004802737', '1', 'PAINT AND ACCESSORIES', '2802')]),\n",
       " ('5', 'Friday', [('68113152929', '-1', 'FINANCIAL SERVICES', '1000')])]"
      ]
     },
     "execution_count": 15,
     "metadata": {},
     "output_type": "execute_result"
    }
   ],
   "source": [
    "raw_train_data"
   ]
  },
  {
   "cell_type": "code",
   "execution_count": 14,
   "metadata": {
    "collapsed": false
   },
   "outputs": [
    {
     "data": {
      "text/plain": [
       "[('Friday', [('1', 'SHOES'), ('1', 'PERSONAL CARE')]),\n",
       " ('Tuesday',\n",
       "  [('1', 'PAINT AND ACCESSORIES'),\n",
       "   ('-1', 'PAINT AND ACCESSORIES'),\n",
       "   ('1', 'DSD GROCERY')]),\n",
       " ('Friday',\n",
       "  [('2', 'PAINT AND ACCESSORIES'),\n",
       "   ('2', 'PAINT AND ACCESSORIES'),\n",
       "   ('2', 'PAINT AND ACCESSORIES'),\n",
       "   ('1', 'PAINT AND ACCESSORIES'),\n",
       "   ('1', 'PAINT AND ACCESSORIES')]),\n",
       " ('Friday', [('-1', 'FINANCIAL SERVICES')])]"
      ]
     },
     "execution_count": 14,
     "metadata": {},
     "output_type": "execute_result"
    }
   ],
   "source": [
    "processed_train_data"
   ]
  },
  {
   "cell_type": "code",
   "execution_count": 8,
   "metadata": {
    "collapsed": false
   },
   "outputs": [
    {
     "data": {
      "text/plain": [
       "KNeighborsClassifier(algorithm='auto', leaf_size=30, metric='minkowski',\n",
       "           n_neighbors=3, p=2, weights='uniform')"
      ]
     },
     "execution_count": 8,
     "metadata": {},
     "output_type": "execute_result"
    }
   ],
   "source": [
    "from sklearn.neighbors import KNeighborsClassifier\n",
    "neigh = KNeighborsClassifier(n_neighbors=3)\n",
    "neigh.fit(train_data, train_label)"
   ]
  },
  {
   "cell_type": "code",
   "execution_count": 9,
   "metadata": {
    "collapsed": false
   },
   "outputs": [],
   "source": [
    "predicted = neigh.predict(test_data)"
   ]
  },
  {
   "cell_type": "code",
   "execution_count": 10,
   "metadata": {
    "collapsed": false
   },
   "outputs": [
    {
     "name": "stdout",
     "output_type": "stream",
     "text": [
      "['8' '999' '7' '9' '999' '8']\n"
     ]
    }
   ],
   "source": [
    "print predicted"
   ]
  },
  {
   "cell_type": "code",
   "execution_count": 11,
   "metadata": {
    "collapsed": false
   },
   "outputs": [
    {
     "name": "stdout",
     "output_type": "stream",
     "text": [
      "[[ 1.  0.  0. ...,  0.  0.  0.]\n",
      " [ 1.  0.  0. ...,  0.  0.  0.]\n",
      " [ 1.  0.  0. ...,  0.  0.  0.]\n",
      " [ 1.  0.  0. ...,  0.  0.  0.]\n",
      " [ 1.  0.  0. ...,  0.  0.  0.]\n",
      " [ 1.  0.  1. ...,  0.  0.  0.]]\n"
     ]
    }
   ],
   "source": [
    "print test_data\n"
   ]
  },
  {
   "cell_type": "code",
   "execution_count": 20,
   "metadata": {
    "collapsed": false
   },
   "outputs": [],
   "source": []
  },
  {
   "cell_type": "code",
   "execution_count": 21,
   "metadata": {
    "collapsed": false
   },
   "outputs": [
    {
     "data": {
      "text/plain": [
       "array(['30', '25', '7', '9', '999', '8'], \n",
       "      dtype='|S3')"
      ]
     },
     "execution_count": 21,
     "metadata": {},
     "output_type": "execute_result"
    }
   ],
   "source": []
  },
  {
   "cell_type": "code",
   "execution_count": 22,
   "metadata": {
    "collapsed": true
   },
   "outputs": [
    {
     "name": "stdout",
     "output_type": "stream",
     "text": [
      "Total feature number in bag: 968\n",
      "Processed 1000\n",
      "Processed 2000\n",
      "Processed 3000\n",
      "Processed 4000\n",
      "Processed 5000\n",
      "Processed 6000\n",
      "Processed 7000\n",
      "Processed 8000\n",
      "Processed 9000\n",
      "Processed 10000\n",
      "Processed 11000\n",
      "Processed 12000\n",
      "Processed 13000\n",
      "Processed 14000\n",
      "Processed 15000\n",
      "Processed 16000\n",
      "Processed 17000\n",
      "Processed 18000\n",
      "Processed 19000\n",
      "Processed 20000\n",
      "Processed 21000\n",
      "Processed 22000\n",
      "Processed 23000\n",
      "Processed 24000\n",
      "Processed 25000\n",
      "Processed 26000\n",
      "Processed 27000\n",
      "Processed 28000\n",
      "Processed 29000\n",
      "Processed 30000\n",
      "Processed 31000\n",
      "Processed 32000\n",
      "Processed 33000\n",
      "Processed 34000\n",
      "Processed 35000\n",
      "Processed 36000\n",
      "Processed 37000\n",
      "Processed 38000\n",
      "Processed 39000\n",
      "Processed 40000\n",
      "Processed 41000\n",
      "Processed 42000\n",
      "Processed 43000\n",
      "Processed 44000\n",
      "Processed 45000\n",
      "Processed 46000\n",
      "Processed 47000\n",
      "Processed 48000\n",
      "Processed 49000\n",
      "Processed 50000\n",
      "Processed 51000\n",
      "Processed 52000\n",
      "Processed 53000\n",
      "Processed 54000\n",
      "Processed 55000\n",
      "Processed 56000\n",
      "Processed 57000\n",
      "Processed 58000\n",
      "Processed 59000\n",
      "Processed 60000\n",
      "Processed 61000\n",
      "Processed 62000\n",
      "Processed 63000\n",
      "Processed 64000\n",
      "Processed 65000\n",
      "Processed 66000\n",
      "Processed 67000\n",
      "Processed 68000\n",
      "Processed 69000\n",
      "Processed 70000\n",
      "Processed 71000\n",
      "Processed 72000\n",
      "Processed 73000\n",
      "Processed 74000\n",
      "Processed 75000\n",
      "Processed 76000\n",
      "Processed 77000\n",
      "Processed 78000\n",
      "Processed 79000\n",
      "Processed 80000\n",
      "Processed 81000\n",
      "Processed 82000\n",
      "Processed 83000\n",
      "Processed 84000\n",
      "Processed 85000\n",
      "Processed 86000\n",
      "Processed 87000\n",
      "Processed 88000\n",
      "Processed 89000\n",
      "Processed 90000\n",
      "Processed 91000\n",
      "Processed 92000\n",
      "Processed 93000\n",
      "Processed 94000\n",
      "Processed 95000\n"
     ]
    }
   ],
   "source": []
  },
  {
   "cell_type": "code",
   "execution_count": 23,
   "metadata": {
    "collapsed": false
   },
   "outputs": [
    {
     "ename": "ValueError",
     "evalue": "Number of features of the model must  match the input. Model n_features is 800 and  input n_features is 968 ",
     "output_type": "error",
     "traceback": [
      "\u001b[1;31m---------------------------------------------------------------------------\u001b[0m",
      "\u001b[1;31mValueError\u001b[0m                                Traceback (most recent call last)",
      "\u001b[1;32m<ipython-input-23-82f17ae3097a>\u001b[0m in \u001b[0;36m<module>\u001b[1;34m()\u001b[0m\n\u001b[1;32m----> 1\u001b[1;33m \u001b[0mpredicted\u001b[0m \u001b[1;33m=\u001b[0m \u001b[0mclf\u001b[0m\u001b[1;33m.\u001b[0m\u001b[0mpredict\u001b[0m\u001b[1;33m(\u001b[0m\u001b[0mtest_data\u001b[0m\u001b[1;33m)\u001b[0m\u001b[1;33m\u001b[0m\u001b[0m\n\u001b[0m",
      "\u001b[1;32m/usr/lib/python2.7/dist-packages/sklearn/tree/tree.pyc\u001b[0m in \u001b[0;36mpredict\u001b[1;34m(self, X)\u001b[0m\n\u001b[0;32m    280\u001b[0m                              \u001b[1;34m\" match the input. Model n_features is %s and \"\u001b[0m\u001b[1;33m\u001b[0m\u001b[0m\n\u001b[0;32m    281\u001b[0m                              \u001b[1;34m\" input n_features is %s \"\u001b[0m\u001b[1;33m\u001b[0m\u001b[0m\n\u001b[1;32m--> 282\u001b[1;33m                              % (self.n_features_, n_features))\n\u001b[0m\u001b[0;32m    283\u001b[0m \u001b[1;33m\u001b[0m\u001b[0m\n\u001b[0;32m    284\u001b[0m         \u001b[0mproba\u001b[0m \u001b[1;33m=\u001b[0m \u001b[0mself\u001b[0m\u001b[1;33m.\u001b[0m\u001b[0mtree_\u001b[0m\u001b[1;33m.\u001b[0m\u001b[0mpredict\u001b[0m\u001b[1;33m(\u001b[0m\u001b[0mX\u001b[0m\u001b[1;33m)\u001b[0m\u001b[1;33m\u001b[0m\u001b[0m\n",
      "\u001b[1;31mValueError\u001b[0m: Number of features of the model must  match the input. Model n_features is 800 and  input n_features is 968 "
     ]
    }
   ],
   "source": []
  },
  {
   "cell_type": "code",
   "execution_count": 26,
   "metadata": {
    "collapsed": false
   },
   "outputs": [
    {
     "data": {
      "text/plain": [
       "800"
      ]
     },
     "execution_count": 26,
     "metadata": {},
     "output_type": "execute_result"
    }
   ],
   "source": []
  },
  {
   "cell_type": "code",
   "execution_count": 27,
   "metadata": {
    "collapsed": false
   },
   "outputs": [
    {
     "data": {
      "text/plain": [
       "968"
      ]
     },
     "execution_count": 27,
     "metadata": {},
     "output_type": "execute_result"
    }
   ],
   "source": []
  },
  {
   "cell_type": "code",
   "execution_count": null,
   "metadata": {
    "collapsed": true
   },
   "outputs": [],
   "source": []
  }
 ],
 "metadata": {
  "kernelspec": {
   "display_name": "Python 2",
   "language": "python",
   "name": "python2"
  },
  "language_info": {
   "codemirror_mode": {
    "name": "ipython",
    "version": 2
   },
   "file_extension": ".py",
   "mimetype": "text/x-python",
   "name": "python",
   "nbconvert_exporter": "python",
   "pygments_lexer": "ipython2",
   "version": "2.7.6"
  }
 },
 "nbformat": 4,
 "nbformat_minor": 0
}
