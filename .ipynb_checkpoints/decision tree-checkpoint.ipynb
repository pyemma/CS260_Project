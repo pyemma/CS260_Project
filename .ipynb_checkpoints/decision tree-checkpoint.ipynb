{
 "cells": [
  {
   "cell_type": "code",
   "execution_count": 5,
   "metadata": {
    "collapsed": false
   },
   "outputs": [],
   "source": [
    "import preprocess\n",
    "import time"
   ]
  },
  {
   "cell_type": "code",
   "execution_count": 6,
   "metadata": {
    "collapsed": false
   },
   "outputs": [
    {
     "name": "stdout",
     "output_type": "stream",
     "text": [
      "Total feature number in bag: 800\n",
      "Processed 95674\n",
      "Processed 6\n",
      "train_data len: 95674 800\n",
      "test_data len: 6 800\n"
     ]
    }
   ],
   "source": [
    "'''\n",
    "TripType - a categorical id representing the type of shopping trip the customer made. This is the ground truth that you are predicting. TripType_999 is an \"other\" category.\n",
    "VisitNumber - an id corresponding to a single trip by a single customer\n",
    "Weekday - the weekday of the trip\n",
    "Upc - the UPC number of the product purchased\n",
    "ScanCount - the number of the given item that was purchased. A negative value indicates a product return.\n",
    "DepartmentDescription - a high-level description of the item's department\n",
    "FinelineNumber - a more refined category for each of the products, created by Walmart\n",
    "'''\n",
    "train_label, raw_train_data = preprocess.group_by_visit_number('data/train.csv')\n",
    "test_label, raw_test_data = preprocess.group_by_visit_number('data/test-simple.csv', False)\n",
    "\n",
    "processed_train_data = preprocess.process_data(raw_train_data, ['s', 'd'])\n",
    "processed_test_data = preprocess.process_data(raw_test_data, ['s', 'd'])\n",
    "\n",
    "bag_of_features = preprocess.get_feature_bag(processed_train_data, processed_test_data, {})\n",
    "\n",
    "train_data = preprocess.one_hot_encoding(processed_train_data, bag_of_features)\n",
    "test_data = preprocess.one_hot_encoding(processed_test_data, bag_of_features)\n",
    "\n",
    "print \"train_data len:\", len(train_data), len(train_data[1])\n",
    "print \"test_data len:\", len(test_data), len(test_data[1])"
   ]
  },
  {
   "cell_type": "code",
   "execution_count": 7,
   "metadata": {
    "collapsed": false
   },
   "outputs": [
    {
     "name": "stdout",
     "output_type": "stream",
     "text": [
      "0.000105142593384\n"
     ]
    }
   ],
   "source": [
    "\n",
    "len(bag_of_features)\n"
   ]
  },
  {
   "cell_type": "code",
   "execution_count": null,
   "metadata": {
    "collapsed": false
   },
   "outputs": [],
   "source": [
    "from sklearn.tree import DecisionTreeClassifier\n",
    "t1 = time.time()\n",
    "clf = DecisionTreeClassifier()\n",
    "clf = clf.fit(train_data, train_label)\n",
    "t2 = time.time()\n",
    "print (t2-t1)"
   ]
  },
  {
   "cell_type": "code",
   "execution_count": null,
   "metadata": {
    "collapsed": false
   },
   "outputs": [],
   "source": [
    "t1 = time.time()\n",
    "predicted = clf.predict(test_data)\n",
    "t2 = time.time()\n",
    "print (t2-t1)"
   ]
  },
  {
   "cell_type": "code",
   "execution_count": null,
   "metadata": {
    "collapsed": true
   },
   "outputs": [],
   "source": []
  }
 ],
 "metadata": {
  "kernelspec": {
   "display_name": "Python 2",
   "language": "python",
   "name": "python2"
  },
  "language_info": {
   "codemirror_mode": {
    "name": "ipython",
    "version": 2
   },
   "file_extension": ".py",
   "mimetype": "text/x-python",
   "name": "python",
   "nbconvert_exporter": "python",
   "pygments_lexer": "ipython2",
   "version": "2.7.6"
  }
 },
 "nbformat": 4,
 "nbformat_minor": 0
}
